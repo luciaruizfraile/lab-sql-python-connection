{
 "cells": [
  {
   "cell_type": "code",
   "execution_count": 1,
   "id": "5c638104",
   "metadata": {},
   "outputs": [],
   "source": [
    "#Conectar Python a MySQL (Sakila)\n",
    "import pandas as pd\n",
    "from sqlalchemy import create_engine\n",
    "\n",
    "# Reemplaza con tus credenciales de conexión\n",
    "user = 'root'\n",
    "password = 'isabelyluis'\n",
    "host = 'localhost'\n",
    "port = 3306\n",
    "database = 'sakila'\n",
    "\n",
    "# Crear motor de conexión\n",
    "engine = create_engine(f'mysql+pymysql://{user}:{\"isabelyluis\"}@{host}:{port}/{\"sakila\"}')\n"
   ]
  },
  {
   "cell_type": "code",
   "execution_count": null,
   "id": "cda4485d",
   "metadata": {},
   "outputs": [],
   "source": [
    "#funcion rentals_month\n",
    "def rentals_month(engine, month, year):\n",
    "    query = f\"\"\"\n",
    "    SELECT rental_id, rental_date, customer_id\n",
    "    FROM rental\n",
    "    WHERE MONTH(rental_date) = {month} AND YEAR(rental_date) = {year}\n",
    "    \"\"\"\n",
    "    df = pd.read_sql(query, con=engine)\n",
    "    return df"
   ]
  },
  {
   "cell_type": "code",
   "execution_count": 3,
   "id": "79ab37f3",
   "metadata": {},
   "outputs": [],
   "source": [
    "#funcion rental count month \n",
    "def rental_count_month(df, month, year):\n",
    "    col_name = f\"rentals_{str(month).zfill(2)}_{year}\"\n",
    "    count_df = df.groupby('customer_id').size().reset_index(name=col_name)\n",
    "    return count_df\n"
   ]
  },
  {
   "cell_type": "code",
   "execution_count": 4,
   "id": "3a53a575",
   "metadata": {},
   "outputs": [],
   "source": [
    "#funcion comparacion de rentas por mes y año \n",
    "def compare_rentals(df1, df2):\n",
    "    combined = pd.merge(df1, df2, on='customer_id', how='outer').fillna(0)\n",
    "    # Suponemos que las columnas de los DataFrames son del estilo rentals_05_2005\n",
    "    col1 = combined.columns[1]\n",
    "    col2 = combined.columns[2]\n",
    "    combined['difference'] = combined[col2] - combined[col1]\n",
    "    return combined\n",
    "\n"
   ]
  },
  {
   "cell_type": "code",
   "execution_count": 5,
   "id": "7cdde169",
   "metadata": {},
   "outputs": [
    {
     "name": "stdout",
     "output_type": "stream",
     "text": [
      "   customer_id  rentals_05_2005  rentals_06_2005  difference\n",
      "0            1              2.0              7.0         5.0\n",
      "1            2              1.0              1.0         0.0\n",
      "2            3              2.0              4.0         2.0\n",
      "3            4              0.0              6.0         6.0\n",
      "4            5              3.0              5.0         2.0\n"
     ]
    }
   ],
   "source": [
    "# Obtener datos de mayo y junio 2005\n",
    "df_may = rentals_month(engine, 5, 2005)\n",
    "df_june = rentals_month(engine, 6, 2005)\n",
    "\n",
    "# Contar alquileres por cliente\n",
    "count_may = rental_count_month(df_may, 5, 2005)\n",
    "count_june = rental_count_month(df_june, 6, 2005)\n",
    "\n",
    "# Comparar ambos meses\n",
    "result = compare_rentals(count_may, count_june)\n",
    "print(result.head())\n"
   ]
  }
 ],
 "metadata": {
  "kernelspec": {
   "display_name": "base",
   "language": "python",
   "name": "python3"
  },
  "language_info": {
   "codemirror_mode": {
    "name": "ipython",
    "version": 3
   },
   "file_extension": ".py",
   "mimetype": "text/x-python",
   "name": "python",
   "nbconvert_exporter": "python",
   "pygments_lexer": "ipython3",
   "version": "3.12.7"
  }
 },
 "nbformat": 4,
 "nbformat_minor": 5
}
